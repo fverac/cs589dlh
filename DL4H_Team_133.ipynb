{
 "cells": [
  {
   "cell_type": "markdown",
   "id": "8a177c30-c7b0-42d9-bdd9-46c177ee208c",
   "metadata": {},
   "source": [
    "# CS 598 DLH Final Project Draft\n",
    "\n",
    "Name: Fabio Vera\n",
    "\n",
    "Team: 133\n",
    "\n",
    "Project: 11\n",
    "\n",
    "Github link: https://github.com/fverac/cs589dlh"
   ]
  },
  {
   "cell_type": "code",
   "execution_count": 1,
   "id": "ff74c94b-5e79-4336-a74d-be4cd1bcb978",
   "metadata": {},
   "outputs": [],
   "source": [
    "import pandas as pd\n",
    "import numpy as np\n",
    "\n",
    "import os\n",
    "import sys\n",
    "\n",
    "from sklearn.pipeline import make_pipeline\n",
    "from sklearn.compose import ColumnTransformer\n",
    "from sklearn.linear_model import LogisticRegressionCV, LogisticRegression\n",
    "from sklearn.ensemble import RandomForestClassifier\n",
    "from sklearn.preprocessing import StandardScaler, OneHotEncoder\n",
    "from sklearn.impute import SimpleImputer\n",
    "from sklearn.model_selection import KFold\n",
    "from sklearn.metrics import accuracy_score, precision_recall_curve, precision_score, \\\n",
    "                            recall_score, f1_score, confusion_matrix, classification_report, \\\n",
    "                            PrecisionRecallDisplay, roc_auc_score, RocCurveDisplay\n",
    "# may have to install xgboost via `pip install xgboost`\n",
    "from xgboost import XGBClassifier\n",
    "import xgboost as xgb\n",
    "\n",
    "\n",
    "pd.set_option('display.max_columns', None)"
   ]
  },
  {
   "cell_type": "markdown",
   "id": "c14887c9-6080-4445-b5f4-255c71cf5ece",
   "metadata": {},
   "source": [
    "# Introduction\n",
    "<!-- This is an introduction to your report, you should edit this text/mardown section to compose. In this text/markdown, you should introduce:\n",
    "\n",
    "*   Background of the problem\n",
    "  * what type of problem: disease/readmission/mortality prediction,  feature engineeing, data processing, etc\n",
    "  * what is the importance/meaning of solving the problem\n",
    "  * what is the difficulty of the problem\n",
    "  * the state of the art methods and effectiveness.\n",
    "*   Paper explanation\n",
    "  * what did the paper propose\n",
    "  * what is the innovations of the method\n",
    "  * how well the proposed method work (in its own metrics)\n",
    "  * what is the contribution to the reasearch regime (referring the Background above, how important the paper is to the problem). -->\n"
   ]
  },
  {
   "cell_type": "markdown",
   "id": "566f7f8c-5f6b-4a7d-aa88-56da321e48b2",
   "metadata": {},
   "source": [
    "Sepsis accounts for over 5.3 million deaths a year and has an approximate mortality of 30%. With such a high mortality rate, it is desirable to construct an accurate and reliable prognostic (or survival classification) model to inform the allocation of scarce clinical resources. Past attempts at such a prognostic model have either employed traditional predictive methods such as logistic regression, or the use of clinical scoring systems such as Simplified Acute Physiology Score-II. These approaches however, can be limiting in their assumptions or scope of features used for prediction. Machine learning methods such as XGboost may be able to achieve higher performance, with the ability to handle many features and identify nonlinear relationships in the data.\n",
    "\n",
    "The paper I am reproducing proposes using XGBoost for this classification task, and demonstrates improvement in performance over typical models such as logistic regression, achieving an AUC of 0.857 using XGboost vs 0.819 using logistic regression.\n",
    "\n",
    "I will attempt to reproduce their classification experiments, and compare the performance of XGboost on the dataset against traditional methods such as logistic regression."
   ]
  },
  {
   "cell_type": "markdown",
   "id": "fbdccb95-7824-4baa-8889-6e650dab67c0",
   "metadata": {},
   "source": [
    "# Scope of Reproducibility:\n",
    "\n",
    "<!-- List hypotheses from the paper you will test and the corresponding experiments you will run.\n",
    "\n",
    "\n",
    "1.   Hypothesis 1: xxxxxxx\n",
    "2.   Hypothesis 2: xxxxxxx\n",
    "\n",
    "You can insert images in this notebook text, [see this link](https://stackoverflow.com/questions/50670920/how-to-insert-an-inline-image-in-google-colaboratory-from-google-drive) and example below:\n",
    "\n",
    "![sample_image.png](https://drive.google.com/uc?export=view&id=1g2efvsRJDxTxKz-OY3loMhihrEUdBxbc) -->\n"
   ]
  },
  {
   "cell_type": "markdown",
   "id": "6d20d2c5-6397-4656-b0aa-e9dce2ce29c1",
   "metadata": {},
   "source": [
    "Hypotheses:\n",
    "1. I will see if XGboost can achieve higher performance than logistic regression in sepsis mortality prediction."
   ]
  },
  {
   "cell_type": "markdown",
   "id": "9522a404-5f02-4d0b-b47d-c5a364d1e8b4",
   "metadata": {},
   "source": [
    "# Methodology"
   ]
  },
  {
   "cell_type": "markdown",
   "id": "4e8c27d5-83a3-4a16-9ccb-d2700baab220",
   "metadata": {},
   "source": [
    "##  Data\n",
    "<!-- Data includes raw data (MIMIC III tables), descriptive statistics (our homework questions), and data processing (feature engineering).\n",
    "  * Source of the data: where the data is collected from; if data is synthetic or self-generated, explain how. If possible, please provide a link to the raw datasets.\n",
    "  * Statistics: include basic descriptive statistics of the dataset like size, cross validation split, label distribution, etc.\n",
    "  * Data process: how do you munipulate the data, e.g., change the class labels, split the dataset to train/valid/test, refining the dataset.\n",
    "  * Illustration: printing results, plotting figures for illustration.\n",
    "  * You can upload your raw dataset to Google Drive and mount this Colab to the same directory. If your raw dataset is too large, you can upload the processed dataset and have a code to load the processed dataset. -->"
   ]
  },
  {
   "cell_type": "markdown",
   "id": "438093b9-f079-48ab-8cbc-f6fa5103051d",
   "metadata": {},
   "source": [
    "Data is all from MIMIC III v1.4, which \"is a large, freely-available database comprising deidentified health-related data associated with over forty thousand patients who stayed in critical care units of the Beth Israel Deaconess Medical Center between 2001 and 2012. The database includes information such as demographics, vital sign measurements made at the bedside (~1 data point per hour), laboratory test results, procedures, medications, caregiver notes, imaging reports, and mortality (including post-hospital discharge).\"\n",
    "\n",
    "Data can be obtained from this link after completing the required training.\n",
    "https://physionet.org/content/mimiciii/1.4/\n",
    "\n",
    "Precomputed features like first-day vital signs and many more were obtained from Google BigQuery, which in addition to storing \n",
    "More information as well as underlying code for creating these precomputed/derived tables can be found here: \n",
    "https://github.com/MIT-LCP/mimic-code/tree/main/mimic-iii/concepts\n",
    "\n",
    "Additionally, here are some resources for accessing MIMIC through BigQuery:\n",
    "https://mimic.mit.edu/docs/gettingstarted/cloud/bigquery/"
   ]
  },
  {
   "cell_type": "markdown",
   "id": "55351f7b-acb6-4511-8571-745631e8efc8",
   "metadata": {},
   "source": [
    "#### Sepsis filters\n",
    "\n",
    "Obtain diagnosis codes for sepsis, to be used for filtering downstream"
   ]
  },
  {
   "cell_type": "code",
   "execution_count": 3,
   "id": "6c250c55-0111-4e9e-9538-b3d3c32d0b75",
   "metadata": {},
   "outputs": [
    {
     "data": {
      "text/plain": [
       "array(['99591', '99592', '78552'], dtype=object)"
      ]
     },
     "execution_count": 3,
     "metadata": {},
     "output_type": "execute_result"
    }
   ],
   "source": [
    "# icd9 codes I care about\n",
    "sepsis_codes = (\n",
    "    pd.read_csv(f'mimic-iii-clinical-database-1.4/D_ICD_DIAGNOSES.csv')\n",
    "    .loc[lambda df: df['SHORT_TITLE'].str.lower().isin(['sepsis', 'severe sepsis', 'septic shock'])] #sepsis”, “severe sepsis” and “septic shock”\n",
    "    ['ICD9_CODE']\n",
    "    .values\n",
    ")\n",
    "sepsis_codes"
   ]
  },
  {
   "cell_type": "code",
   "execution_count": null,
   "id": "09e8ab54-495d-4819-bba8-5c96074be6c1",
   "metadata": {},
   "outputs": [],
   "source": [
    "diagnoses = pd.read_csv('mimic-iii-clinical-database-1.4/DIAGNOSES_ICD.csv')\n",
    "diagnoses"
   ]
  },
  {
   "cell_type": "code",
   "execution_count": null,
   "id": "76281e39-7e2d-4f89-8a34-198ae5bd0b54",
   "metadata": {},
   "outputs": [],
   "source": [
    "sepsis_diagnoses = (\n",
    "    diagnoses\n",
    "    .loc[\n",
    "        lambda df: df['ICD9_CODE'].isin(sepsis_codes)\n",
    "    ]\n",
    ")\n",
    "sepsis_diagnoses"
   ]
  },
  {
   "cell_type": "markdown",
   "id": "ea9bc41d-1789-47ad-9e35-83d0466d53a6",
   "metadata": {},
   "source": [
    "#### Loading and cleaning master table"
   ]
  },
  {
   "cell_type": "code",
   "execution_count": 51,
   "id": "c41e3fb1-51b7-4861-8ffb-314e7a728543",
   "metadata": {},
   "outputs": [],
   "source": [
    "# helper function to print shape and message via .pipe, while returning df to continue data processing\n",
    "def print_shape(df, msg = ''):\n",
    "    print(msg, df.shape)\n",
    "    return df"
   ]
  },
  {
   "cell_type": "code",
   "execution_count": 65,
   "id": "0711d3f7-7849-440c-9389-79c2ac33efa8",
   "metadata": {},
   "outputs": [
    {
     "name": "stdout",
     "output_type": "stream",
     "text": [
      "Initial shape:  (61051, 19)\n",
      "After filtering to sepsis:  (6126, 19)\n",
      "After filtering to first hospital+icu stay:  (3534, 19)\n",
      "After filtering ages:  (3262, 19)\n",
      "After inner-merging on features:  (3169, 102)\n",
      "After dropping rows where >20% features are missing:  (3155, 86)\n",
      "Final shape:  (3155, 92)\n"
     ]
    }
   ],
   "source": [
    "Xy = (\n",
    "    pd.read_csv('mimic_concepts/icustay_detail.csv') # table of all icu stays along with demographic information\n",
    "    .pipe(print_shape, 'Initial shape: ')\n",
    "    .loc[lambda df: df['hadm_id'].isin(sepsis_diagnoses['HADM_ID'])] # sepsis filter\n",
    "    .pipe(print_shape, 'After filtering to sepsis: ')\n",
    "\n",
    "    .loc[lambda df: df['first_hosp_stay']] # only keep first hospital stays\n",
    "    .loc[lambda df: df['first_icu_stay']] # only keep first icu stay info\n",
    "    .pipe(print_shape, 'After filtering to first hospital+icu stay: ')\n",
    "\n",
    "    .loc[lambda df: df['admission_age'].ge(18)] # age filter\n",
    "    .loc[lambda df: df['admission_age'].le(89)] # age filter\n",
    "    .pipe(print_shape, 'After filtering ages: ')\n",
    "\n",
    "    # create y marker\n",
    "    .assign(\n",
    "        death_within_30 = lambda df:\n",
    "        df['hospital_expire_flag']\n",
    "        # if length of stay > 30, mark as not dead within 30 days\n",
    "        .mask(\n",
    "            df['los_hospital'].gt(30),\n",
    "            0\n",
    "        )\n",
    "    )\n",
    "    \n",
    "    # inner merge all features. Don't lose too many rows\n",
    "    .merge(\n",
    "        pd.read_csv('mimic_concepts/labs_first_day.csv'),\n",
    "        how='inner',\n",
    "        on = ['subject_id', 'hadm_id', 'icustay_id'],\n",
    "    )\n",
    "    .merge(\n",
    "        pd.read_csv('mimic_concepts/heightweight.csv'),\n",
    "        how='inner',\n",
    "        on = ['icustay_id'],\n",
    "    )\n",
    "    .merge(\n",
    "        pd.read_csv('mimic_concepts/vitals_first_day.csv'),\n",
    "        how='inner', # this drops like 20 rows\n",
    "        on = ['subject_id', 'hadm_id', 'icustay_id'],\n",
    "    ) # deal with conflicting glucose vals\n",
    "    .merge(\n",
    "        pd.read_csv('mimic_concepts/gcs_first_day.csv'),\n",
    "        how='inner',\n",
    "        on = ['subject_id', 'hadm_id', 'icustay_id'],\n",
    "    )\n",
    "    # .merge( # LEAVE OUT NOW FOR SIMPLICITY\n",
    "    #     pd.read_csv('mimic_concepts/blood_gas_first_day_arterial.csv'),\n",
    "    #     how='left',\n",
    "    #     on = ['subject_id', 'hadm_id', 'icustay_id'],\n",
    "    # )\n",
    "    .merge(\n",
    "        pd.read_csv('mimic_concepts/elixhauser_ahrq_v37.csv')\n",
    "        # only keep cols with at least 1% of data. maybe just drop this..\n",
    "        .loc[\n",
    "            :,\n",
    "            lambda df:\n",
    "            df.sum().div(df.shape[0]).gt(0.01)\n",
    "        ],\n",
    "        how='inner',\n",
    "        on = ['subject_id', 'hadm_id'],\n",
    "    )\n",
    "    .merge(\n",
    "        pd.read_csv('mimic_concepts/ventilation_first_day.csv'),\n",
    "        how='inner',\n",
    "        on = ['subject_id', 'hadm_id', 'icustay_id'],\n",
    "    )\n",
    "    .merge(\n",
    "        pd.read_csv('mimic_concepts/rrt_first_day.csv'),\n",
    "        how='inner',\n",
    "        on = ['subject_id', 'hadm_id', 'icustay_id'],\n",
    "    )\n",
    "    .merge(\n",
    "        pd.read_csv('mimic_concepts/urine_output_first_day.csv'),\n",
    "        how='inner', #this drops a few hundred\n",
    "        on = ['subject_id', 'hadm_id', 'icustay_id'],\n",
    "    )\n",
    "    .merge(\n",
    "        pd.read_csv('mimic_concepts/sapsii.csv')[['subject_id', 'hadm_id', 'icustay_id', 'sapsii']],\n",
    "        how='inner', #this drops a few hundred\n",
    "        on = ['subject_id', 'hadm_id', 'icustay_id'],\n",
    "    )\n",
    "    .merge(\n",
    "        pd.read_csv('mimic_concepts/sofa.csv')[['subject_id', 'hadm_id', 'icustay_id', 'SOFA']],\n",
    "        how='inner', #this drops a few hundred\n",
    "        on = ['subject_id', 'hadm_id', 'icustay_id'],\n",
    "    )\n",
    "    .merge(\n",
    "        pd.read_csv('mimic_concepts/qsofa.csv')[['subject_id', 'hadm_id', 'icustay_id', 'qSOFA']],\n",
    "        how='inner', #this drops a few hundred\n",
    "        on = ['subject_id', 'hadm_id', 'icustay_id'],\n",
    "    )\n",
    "    .pipe(print_shape, 'After inner-merging on features: ')\n",
    "\n",
    "\n",
    "    \n",
    "    # drop columns not intended for modeling\n",
    "    .drop(\n",
    "        columns=[\n",
    "            'icustay_id',\n",
    "            'dod',\n",
    "            'admittime',\n",
    "            'dischtime',\n",
    "            'los_hospital',\n",
    "            'ethnicity',\n",
    "            'hospital_expire_flag',\n",
    "            'hospstay_seq',\n",
    "            'first_hosp_stay',\n",
    "            'intime',\n",
    "            'outtime',\n",
    "            'los_icu',\n",
    "            'icustay_seq',\n",
    "            'first_icu_stay',\n",
    "            'subject_id',\n",
    "            'hadm_id'\n",
    "        ]\n",
    "    )\n",
    "    \n",
    "    # drop rows where >20% features are missing\n",
    "    .loc[\n",
    "        lambda df:\n",
    "        df\n",
    "        .isna()\n",
    "        .sum(axis=1)\n",
    "        .div(df.shape[1]).lt(0.2)\n",
    "    ]\n",
    "    .pipe(print_shape, 'After dropping rows where >20% features are missing: ')\n",
    "\n",
    "\n",
    "\n",
    "    # xgboost can natively handle categorical, and onehot, but maybe in interest of time just do it in pandas\n",
    "    .assign(gender = lambda df: df['gender'].replace({'F':0, 'M': 1}))\n",
    "    .pipe(\n",
    "        lambda df:\n",
    "        pd.concat([\n",
    "            df.drop(columns='ethnicity_grouped'),\n",
    "            df['ethnicity_grouped'].pipe(pd.get_dummies, prefix='ethnicity')\n",
    "        ], axis=1)\n",
    "    )\n",
    "    .fillna(-1)\n",
    "    \n",
    "    .reset_index(drop=True)\n",
    "    .pipe(print_shape, 'Final shape: ')\n",
    "\n",
    ")\n",
    "# Xy"
   ]
  },
  {
   "cell_type": "markdown",
   "id": "79f24377-d66c-44bf-98fe-c4aede60bcab",
   "metadata": {},
   "source": [
    "#### Data exploration"
   ]
  },
  {
   "cell_type": "code",
   "execution_count": 61,
   "id": "138947fa-138e-4578-b623-5d7a2fd00739",
   "metadata": {},
   "outputs": [
    {
     "data": {
      "text/plain": [
       "0    2295\n",
       "1     860\n",
       "Name: death_within_30, dtype: int64"
      ]
     },
     "execution_count": 61,
     "metadata": {},
     "output_type": "execute_result"
    }
   ],
   "source": [
    "# target value counts\n",
    "Xy['death_within_30'].value_counts()"
   ]
  },
  {
   "cell_type": "code",
   "execution_count": 62,
   "id": "19ae2096-a69d-46f4-940d-c91929c64101",
   "metadata": {},
   "outputs": [
    {
     "data": {
      "text/plain": [
       "bands_min        1842\n",
       "bands_max        1842\n",
       "height_first     1565\n",
       "height_max       1563\n",
       "height_min       1563\n",
       "albumin_min      1121\n",
       "albumin_max      1121\n",
       "bilirubin_max     674\n",
       "bilirubin_min     674\n",
       "lactate_max       341\n",
       "lactate_min       341\n",
       "ptt_min           191\n",
       "ptt_max           191\n",
       "pt_max            181\n",
       "pt_min            181\n",
       "inr_max           181\n",
       "inr_min           181\n",
       "gcsmotor           44\n",
       "weight_max         36\n",
       "weight_min         36\n",
       "dtype: int64"
      ]
     },
     "execution_count": 62,
     "metadata": {},
     "output_type": "execute_result"
    }
   ],
   "source": [
    "# observe most commonly missing features\n",
    "Xy.eq(-1).sum().sort_values(ascending=False).head(20)"
   ]
  },
  {
   "cell_type": "code",
   "execution_count": null,
   "id": "84b31f4c-11ec-4721-b55e-0d5db152665c",
   "metadata": {},
   "outputs": [],
   "source": []
  },
  {
   "cell_type": "code",
   "execution_count": null,
   "id": "ac645e81-de21-46d0-be34-b94e94f2d772",
   "metadata": {},
   "outputs": [],
   "source": []
  },
  {
   "cell_type": "markdown",
   "id": "63b8835e-5db4-44cb-9e62-e04755dfc18c",
   "metadata": {},
   "source": [
    "##   Model\n",
    "<!-- The model includes the model definitation which usually is a class, model training, and other necessary parts.\n",
    "  * Model architecture: layer number/size/type, activation function, etc\n",
    "  * Training objectives: loss function, optimizer, weight of each loss term, etc\n",
    "  * Others: whether the model is pretrained, Monte Carlo simulation for uncertainty analysis, etc\n",
    "  * The code of model should have classes of the model, functions of model training, model validation, etc.\n",
    "  * If your model training is done outside of this notebook, please upload the trained model here and develop a function to load and test it. -->\n",
    "  "
   ]
  },
  {
   "cell_type": "markdown",
   "id": "57a910ab-9fc2-4721-8d03-27acc77bf6fb",
   "metadata": {},
   "source": [
    "Use xgboost and compare against logistic regression. Currently no hyperparameter tuning"
   ]
  },
  {
   "cell_type": "code",
   "execution_count": 16,
   "id": "7903a3ce-bda6-4aef-bc1f-5e75174d4d73",
   "metadata": {},
   "outputs": [],
   "source": [
    "y_col = 'death_within_30'\n",
    "X = Xy.drop(columns=[y_col])\n",
    "y = Xy[y_col]"
   ]
  },
  {
   "cell_type": "code",
   "execution_count": 42,
   "id": "40810b77-f64f-476e-b80c-f1dc61f35eb4",
   "metadata": {},
   "outputs": [
    {
     "name": "stdout",
     "output_type": "stream",
     "text": [
      "fold: 0\n",
      "fold: 1\n",
      "fold: 2\n",
      "fold: 3\n",
      "fold: 4\n"
     ]
    }
   ],
   "source": [
    "pred_df = pd.DataFrame()\n",
    "\n",
    "kf = KFold(n_splits=5)\n",
    "\n",
    "for i, (train_index, test_index) in enumerate(kf.split(X)):\n",
    "    print('fold:', i)\n",
    "    X_train = X.iloc[train_index]\n",
    "    y_train = y.iloc[train_index]\n",
    "    X_test = X.iloc[test_index]\n",
    "    y_test = y.iloc[test_index]\n",
    "    \n",
    "    # model = LogisticRegressionCV(max_iter=10000)\n",
    "    # model = XGBClassifier(n_estimators=1000, objective='binary:logistic', eval_metric='auc')\n",
    "    # model = RandomForestClassifier()\n",
    "    model = XGBClassifier(\n",
    "                learning_rate =0.1,\n",
    "                n_estimators=1000,\n",
    "                max_depth=4,\n",
    "                min_child_weight=6,\n",
    "                gamma=0,\n",
    "                subsample=0.8,\n",
    "                colsample_bytree=0.8,\n",
    "                objective= 'binary:logistic',\n",
    "                nthread=4,\n",
    "                scale_pos_weight=1,\n",
    "                seed=27)\n",
    "    \n",
    "    # if True:\n",
    "    #     xgb_param = model.get_xgb_params()\n",
    "    #     xgtrain = xgb.DMatrix(X_train.values, label=y_train.values)\n",
    "    #     cvresult = xgb.cv(xgb_param, xgtrain, num_boost_round=model.get_params()['n_estimators'], nfold=3,\n",
    "    #         metrics='auc', early_stopping_rounds=50,)\n",
    "    #     model.set_params(n_estimators=cvresult.shape[0])\n",
    "    \n",
    "    \n",
    "    model.fit(X_train, y_train)\n",
    "    \n",
    "    preds = model.predict(X_test)\n",
    "    pred_probas = model.predict_proba(X_test)[:, 1]\n",
    "    \n",
    "    pred_df_fold = pd.DataFrame({\n",
    "        'y_actual': y_test,\n",
    "        'y_pred': preds,\n",
    "        'y_pred_proba': pred_probas,\n",
    "        'fold': i,\n",
    "        'test_inds': test_index\n",
    "    })\n",
    "    pred_df = pd.concat([pred_df, pred_df_fold])\n",
    "    \n",
    "    "
   ]
  },
  {
   "cell_type": "markdown",
   "id": "adb44df1-b2c7-4ddb-9bf6-aa6bc1f55765",
   "metadata": {},
   "source": [
    "# Results\n",
    "<!-- In this section, you should finish training your model training or loading your trained model. That is a great experiment! You should share the results with others with necessary metrics and figures.\n",
    "\n",
    "Please test and report results for all experiments that you run with:\n",
    "\n",
    "*   specific numbers (accuracy, AUC, RMSE, etc)\n",
    "*   figures (loss shrinkage, outputs from GAN, annotation or label of sample pictures, etc) -->\n"
   ]
  },
  {
   "cell_type": "markdown",
   "id": "dfe64b12-58ee-4c28-b25c-f0e0c81da39f",
   "metadata": {},
   "source": [
    "#### ROC metrics"
   ]
  },
  {
   "cell_type": "markdown",
   "id": "76896979-f6f4-4b9e-99c3-34995ba1f25f",
   "metadata": {},
   "source": [
    "auc"
   ]
  },
  {
   "cell_type": "code",
   "execution_count": 64,
   "id": "5534aefb-b8f7-4b09-9f34-904cc03d8413",
   "metadata": {},
   "outputs": [
    {
     "data": {
      "text/plain": [
       "0.8065795206971678"
      ]
     },
     "execution_count": 64,
     "metadata": {},
     "output_type": "execute_result"
    }
   ],
   "source": [
    "roc_auc_score(pred_df['y_actual'], pred_df['y_pred_proba'])"
   ]
  },
  {
   "cell_type": "markdown",
   "id": "f282eb16-aed0-4b83-8bfd-5b4db5e817ad",
   "metadata": {},
   "source": [
    "roc curve\n"
   ]
  },
  {
   "cell_type": "code",
   "execution_count": 41,
   "id": "175d06fd-dd51-4e2c-8452-8b993933cc0f",
   "metadata": {},
   "outputs": [
    {
     "data": {
      "text/plain": [
       "<sklearn.metrics._plot.roc_curve.RocCurveDisplay at 0x147709b50>"
      ]
     },
     "execution_count": 41,
     "metadata": {},
     "output_type": "execute_result"
    },
    {
     "data": {
      "image/png": "[encoded data removed]",
      "text/plain": [
       "<Figure size 432x288 with 1 Axes>"
      ]
     },
     "metadata": {
      "needs_background": "light"
     },
     "output_type": "display_data"
    }
   ],
   "source": [
    "RocCurveDisplay.from_predictions(pred_df['y_actual'], pred_df['y_pred_proba'])"
   ]
  },
  {
   "cell_type": "markdown",
   "id": "1127496b-58f4-4094-93cd-7b36cad9d133",
   "metadata": {},
   "source": [
    "# Discussion\n",
    "\n",
    "<!-- In this section,you should discuss your work and make future plan. The discussion should address the following questions:\n",
    "  * Make assessment that the paper is reproducible or not.\n",
    "  * Explain why it is not reproducible if your results are kind negative.\n",
    "  * Describe “What was easy” and “What was difficult” during the reproduction.\n",
    "  * Make suggestions to the author or other reproducers on how to improve the reproducibility.\n",
    "  * What will you do in next phase. -->\n",
    "\n"
   ]
  },
  {
   "cell_type": "markdown",
   "id": "9e1f0af1-785c-443d-936d-59d66e174166",
   "metadata": {},
   "source": [
    "Out of the box, my XGBoost performance did not seem to achieve the accuracy that the original paper did. I have been currently been achieving .806 AUC with XGBoost while the paper achieved ~0.85 AUC. There are still some optimizations that I can make, however, such as hyperparameter tuning, and allowing XGboost to natively handle missing and categorical values, instead of imputing and one-hot encoding them myself, respectively. \n",
    "\n",
    "In terms of what was difficult, I underestimated how much work it was going to be to process the data to be ready for modeling. There is a lot of feature engineering required on the raw data to get it into a state that is ready for modeling. In particular, the raw CHARTEVENTS table is quite large (~30 gb uncompressed) and understandably has most of the rich features, but its size makes it quite difficult to deal with on a compute station like a laptop. Thankfully, I was able to find and leverage several precomputed derived tables on BigQuery to make the feature engineering process smoother. \n",
    "\n",
    "As a suggestion for the authors, the single most important thing the authors could do to improve reproducibility would be to release their code. This could clear things up across the whole process, from the way they train the model to the way they ingest and process the data.\n",
    "\n",
    "In the next phase I will continue to make efforts to approach the performance that the original authors achieved with XGboost, as well as construct comparisons between logistic regression."
   ]
  },
  {
   "cell_type": "markdown",
   "id": "d655dac9-845e-40fb-8679-b17f11190f2a",
   "metadata": {},
   "source": [
    "# References\n",
    "\n",
    "1. Hou, N., Li, M., He, L. et al. Predicting 30-days mortality for MIMIC-III patients with sepsis-3: a machine learning approach using XGboost. J Transl Med 18, 462 (2020). https://doi.org/10.1186/s12967-020-02620-5\n",
    "2. Johnson, A., Pollard, T., & Mark, R. (2016). MIMIC-III Clinical Database (version 1.4). PhysioNet. https://doi.org/10.13026/C2XW26.\n",
    "3. Johnson, A. E. W., Pollard, T. J., Shen, L., Lehman, L. H., Feng, M., Ghassemi, M., Moody, B., Szolovits, P., Celi, L. A., & Mark, R. G. (2016). MIMIC-III, a freely accessible critical care database. Scientific Data, 3, 160035.\n",
    "4. Goldberger, A., Amaral, L., Glass, L., Hausdorff, J., Ivanov, P. C., Mark, R., ... & Stanley, H. E. (2000). PhysioBank, PhysioToolkit, and PhysioNet: Components of a new research resource for complex physiologic signals. Circulation [Online]. 101 (23), pp. e215–e220.\n"
   ]
  },
  {
   "cell_type": "code",
   "execution_count": null,
   "id": "d036555c-5e12-4cd1-96f2-64dc0eaf7be8",
   "metadata": {},
   "outputs": [],
   "source": []
  }
 ],
 "metadata": {
  "kernelspec": {
   "display_name": "Python 3 (ipykernel)",
   "language": "python",
   "name": "python3"
  },
  "language_info": {
   "codemirror_mode": {
    "name": "ipython",
    "version": 3
   },
   "file_extension": ".py",
   "mimetype": "text/x-python",
   "name": "python",
   "nbconvert_exporter": "python",
   "pygments_lexer": "ipython3",
   "version": "3.9.12"
  }
 },
 "nbformat": 4,
 "nbformat_minor": 5
}
